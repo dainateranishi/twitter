{
 "cells": [
  {
   "cell_type": "code",
   "execution_count": 3,
   "metadata": {},
   "outputs": [
    {
     "name": "stdout",
     "output_type": "stream",
     "text": [
      "内容を入力してください。\n",
      ">> Twitter APIのテストです。\n",
      "*******************************************\n",
      "Success.\n"
     ]
    }
   ],
   "source": [
    "import json, config #標準のjsonモジュールとconfig.pyの読み込み\n",
    "from requests_oauthlib import OAuth1Session #OAuthのライブラリの読み込み\n",
    "\n",
    "ck = config.consumer_key\n",
    "cs = config.consumer_secret\n",
    "at = config.access_token\n",
    "ats = config.access_token_secret\n",
    "twitter = OAuth1Session(ck, cs, at, ats)  #OAuth認証\n",
    "\n",
    "url = \"https://api.twitter.com/1.1/statuses/update.json\" #ツイートポストエンドポイント\n",
    "\n",
    "print(\"内容を入力してください。\")\n",
    "tweet = input('>> ') #キーボード入力の取得\n",
    "print('*******************************************')\n",
    "\n",
    "params = {\"status\" : tweet}\n",
    "\n",
    "res = twitter.post(url, params = params) #post送信\n",
    "\n",
    "if res.status_code == 200: #正常投稿出来た場合\n",
    "    print(\"Success.\")\n",
    "else: #正常投稿出来なかった場合\n",
    "    print(\"Failed. : %d\"% res.status_code)"
   ]
  },
  {
   "cell_type": "code",
   "execution_count": null,
   "metadata": {},
   "outputs": [],
   "source": []
  },
  {
   "cell_type": "code",
   "execution_count": null,
   "metadata": {},
   "outputs": [],
   "source": []
  }
 ],
 "metadata": {
  "kernelspec": {
   "display_name": "Python 3",
   "language": "python",
   "name": "python3"
  },
  "language_info": {
   "codemirror_mode": {
    "name": "ipython",
    "version": 3
   },
   "file_extension": ".py",
   "mimetype": "text/x-python",
   "name": "python",
   "nbconvert_exporter": "python",
   "pygments_lexer": "ipython3",
   "version": "3.7.3"
  }
 },
 "nbformat": 4,
 "nbformat_minor": 2
}
