{
 "cells": [
  {
   "cell_type": "code",
   "execution_count": 1,
   "metadata": {},
   "outputs": [],
   "source": [
    "consumer_key = \"7o4ZAwwO3VPArcVbS3wtZUA32\"\n",
    "consumer_seacret = \"cOnodu14HZaynR5N4cM2tzsoKnmRxGTBJ0ZOsJkXBcpmxEHZ7Y\"\n",
    "access_token = \"1083076687-Fp3KjH88VaGevgox05aPu80knZgkq8uQUHvlbSJ\"\n",
    "access_token_secret = \"KJJGoiKIjkTMaTY4bfyrzaBX98VaYYCOkgENwrC2vwqNy\"\n"
   ]
  },
  {
   "cell_type": "code",
   "execution_count": null,
   "metadata": {},
   "outputs": [],
   "source": []
  }
 ],
 "metadata": {
  "kernelspec": {
   "display_name": "tf-gpu",
   "language": "python",
   "name": "tf-gpu"
  },
  "language_info": {
   "codemirror_mode": {
    "name": "ipython",
    "version": 3
   },
   "file_extension": ".py",
   "mimetype": "text/x-python",
   "name": "python",
   "nbconvert_exporter": "python",
   "pygments_lexer": "ipython3",
   "version": "3.7.3"
  }
 },
 "nbformat": 4,
 "nbformat_minor": 2
}
